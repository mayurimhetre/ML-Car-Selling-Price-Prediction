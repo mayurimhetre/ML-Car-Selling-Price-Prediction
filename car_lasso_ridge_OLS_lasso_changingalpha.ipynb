{
 "cells": [
  {
   "cell_type": "code",
   "execution_count": null,
   "id": "thick-worst",
   "metadata": {},
   "outputs": [],
   "source": [
    "import pandas as pd\n",
    "import matplotlib.pyplot as plt\n",
    "import numpy as np\n",
    "import seaborn as sns\n",
    "\n",
    "\n",
    "df = pd.read_csv('car data.csv')\n",
    "df['Fuel_Type'].value_counts()\n",
    "df['Seller_Type'].value_counts()\n",
    "df['Transmission'].value_counts()\n",
    "df['Owner'].value_counts()\n",
    "df_1 = [feature for feature in df.columns if df[feature].dtypes == 'object']\n",
    "\n",
    "for feature in df_1:\n",
    "    plt.bar(df[feature],df['Selling_Price'])\n",
    "    plt.show()\n",
    "\n",
    "\n",
    "df2 = 2021 - df['Year']\n",
    "df['NewYear'] = df2\n",
    "df.drop(['Car_Name','Year'],axis =1,inplace=True)\n",
    "final_dataset = pd.get_dummies(df,drop_first=True)\n",
    "\n",
    "from sklearn.linear_model import LinearRegression\n",
    "lm = LinearRegression()\n",
    "\n",
    "X = final_dataset.drop('Selling_Price',axis =1)\n",
    "y = final_dataset['Selling_Price']\n",
    "\n",
    "from sklearn.model_selection import train_test_split\n",
    "X_train, X_test, y_train, y_test = train_test_split(X, y, test_size=0.3, random_state=42)\n",
    "\n",
    "lm.fit(X_train,y_train)\n",
    "pred = lm.predict(X_test)\n",
    "\n",
    "from sklearn.metrics import r2_score\n",
    "re = r2_score(y_test, pred)\n",
    "print(\"r2 sqyuare value\",re)\n",
    "sns.distplot(y_test-pred)\n",
    "from sklearn import metrics\n",
    "print('MAE:', metrics.mean_absolute_error(y_test, pred))\n",
    "print('MSE:', metrics.mean_squared_error(y_test, pred))\n",
    "print('RMSE:', np.sqrt(metrics.mean_squared_error(y_test, pred)))"
   ]
  },
  {
   "cell_type": "code",
   "execution_count": 47,
   "id": "latest-catalyst",
   "metadata": {},
   "outputs": [
    {
     "data": {
      "text/plain": [
       "Lasso(alpha=0.001, copy_X=True, fit_intercept=True, max_iter=1000,\n",
       "      normalize=False, positive=False, precompute=False, random_state=None,\n",
       "      selection='cyclic', tol=0.0001, warm_start=False)"
      ]
     },
     "execution_count": 47,
     "metadata": {},
     "output_type": "execute_result"
    }
   ],
   "source": [
    "from sklearn.linear_model import Lasso\n",
    "lm2 = Lasso(alpha = 0.001)\n",
    "lm2.fit(X_train,y_train)"
   ]
  },
  {
   "cell_type": "code",
   "execution_count": 48,
   "id": "engaged-natural",
   "metadata": {},
   "outputs": [],
   "source": [
    "pred2 = lm2.predict(X_test)"
   ]
  },
  {
   "cell_type": "code",
   "execution_count": 49,
   "id": "greatest-proof",
   "metadata": {},
   "outputs": [
    {
     "data": {
      "text/plain": [
       "array([ 2.80886951,  8.0215103 ,  6.6163641 , -1.46503251,  8.91495182,\n",
       "        7.56356404,  1.3930413 ,  0.86969892,  1.41439723,  7.62532183,\n",
       "        9.19108126,  0.64900126,  8.06556421,  3.24064444,  7.03917606,\n",
       "        3.07952444,  0.50427772, 10.49196783,  1.79480896,  2.36091411,\n",
       "        0.43285669,  8.22177797,  6.73860925,  2.60482786,  0.84053202,\n",
       "        3.64650549,  5.20541464,  2.80379054,  2.17241487,  1.7974592 ,\n",
       "        0.4389832 ,  9.23639577, -0.6112448 ,  2.26894848,  8.69791607,\n",
       "        4.44728811,  7.13313887,  7.39154263,  2.912961  ,  7.77188472,\n",
       "        3.85831872,  4.09866714,  4.2674997 ,  0.69031165,  7.47363843,\n",
       "        0.540713  ,  7.17965823, 10.85625697,  3.11098812,  5.56163336,\n",
       "        6.51337357,  2.20289003, 20.25641072, 16.69867764,  7.67994946,\n",
       "        9.36029549,  4.39594061,  9.07583415,  1.77698638,  7.30073961,\n",
       "        0.2907424 , -2.41983047,  1.98847864, -1.49399229,  4.71594787,\n",
       "        1.83853442, 19.92634926, 18.05409969,  5.34293463, -0.53472474,\n",
       "        5.22657925,  5.15906939,  5.56449825,  4.89211271,  2.71124953,\n",
       "        1.68063289,  1.93593677,  9.57932173,  0.87325146,  7.61724844,\n",
       "        4.43537811,  3.30494297,  5.20931757, 13.79051608,  2.29424935,\n",
       "        2.90013896,  0.950395  ,  3.40166663,  1.23035083, 16.76799705,\n",
       "        1.43279152])"
      ]
     },
     "execution_count": 49,
     "metadata": {},
     "output_type": "execute_result"
    }
   ],
   "source": [
    "pred2"
   ]
  },
  {
   "cell_type": "code",
   "execution_count": 50,
   "id": "collectible-martial",
   "metadata": {},
   "outputs": [
    {
     "name": "stdout",
     "output_type": "stream",
     "text": [
      "r2 sqyuare value 0.8757426078049322\n",
      "MAE: 1.2698356709065461\n",
      "MSE: 3.5417485009491716\n",
      "RMSE: 1.88195337374473\n"
     ]
    },
    {
     "name": "stderr",
     "output_type": "stream",
     "text": [
      "/srv/conda/envs/notebook/lib/python3.7/site-packages/seaborn/distributions.py:2557: FutureWarning: `distplot` is a deprecated function and will be removed in a future version. Please adapt your code to use either `displot` (a figure-level function with similar flexibility) or `histplot` (an axes-level function for histograms).\n",
      "  warnings.warn(msg, FutureWarning)\n"
     ]
    },
    {
     "data": {
      "image/png": "[encoded data removed]",
      "text/plain": [
       "<Figure size 432x288 with 1 Axes>"
      ]
     },
     "metadata": {
      "needs_background": "light"
     },
     "output_type": "display_data"
    }
   ],
   "source": [
    "from sklearn.metrics import r2_score\n",
    "re = r2_score(y_test, pred2)\n",
    "print(\"r2 sqyuare value\",re)\n",
    "sns.distplot(y_test-pred)\n",
    "from sklearn import metrics\n",
    "print('MAE:', metrics.mean_absolute_error(y_test, pred))\n",
    "print('MSE:', metrics.mean_squared_error(y_test, pred))\n",
    "print('RMSE:', np.sqrt(metrics.mean_squared_error(y_test, pred)))"
   ]
  },
  {
   "cell_type": "markdown",
   "id": "existing-modeling",
   "metadata": {},
   "source": [
    "X"
   ]
  },
  {
   "cell_type": "markdown",
   "id": "polish-marina",
   "metadata": {},
   "source": [
    "OLS   \n"
   ]
  },
  {
   "cell_type": "code",
   "execution_count": 9,
   "id": "rational-mother",
   "metadata": {},
   "outputs": [],
   "source": [
    "import statsmodels.api as sm\n",
    "\n",
    "X_train_sm = X\n",
    "X_train_sm = sm.add_constant(X_train_sm)\n",
    "\n",
    "lm_sm = sm.OLS(y,X_train_sm.astype(float)).fit()"
   ]
  },
  {
   "cell_type": "code",
   "execution_count": 10,
   "id": "lonely-punch",
   "metadata": {},
   "outputs": [
    {
     "name": "stdout",
     "output_type": "stream",
     "text": [
      "                            OLS Regression Results                            \n",
      "==============================================================================\n",
      "Dep. Variable:          Selling_Price   R-squared:                       0.883\n",
      "Model:                            OLS   Adj. R-squared:                  0.879\n",
      "Method:                 Least Squares   F-statistic:                     274.3\n",
      "Date:                Mon, 10 May 2021   Prob (F-statistic):          5.71e-131\n",
      "Time:                        13:07:39   Log-Likelihood:                -593.62\n",
      "No. Observations:                 301   AIC:                             1205.\n",
      "Df Residuals:                     292   BIC:                             1239.\n",
      "Df Model:                           8                                         \n",
      "Covariance Type:            nonrobust                                         \n",
      "==========================================================================================\n",
      "                             coef    std err          t      P>|t|      [0.025      0.975]\n",
      "------------------------------------------------------------------------------------------\n",
      "const                      5.1882      1.330      3.901      0.000       2.571       7.805\n",
      "Present_Price              0.4372      0.016     27.355      0.000       0.406       0.469\n",
      "Kms_Driven             -7.013e-06   3.23e-06     -2.172      0.031   -1.34e-05   -6.57e-07\n",
      "Owner                     -0.6742      0.423     -1.595      0.112      -1.506       0.158\n",
      "NewYear                   -0.3931      0.043     -9.159      0.000      -0.478      -0.309\n",
      "Fuel_Type_Diesel           2.4699      1.278      1.932      0.054      -0.046       4.986\n",
      "Fuel_Type_Petrol           0.6077      1.259      0.483      0.630      -1.870       3.085\n",
      "Seller_Type_Individual    -1.1213      0.257     -4.371      0.000      -1.626      -0.616\n",
      "Transmission_Manual       -1.4482      0.328     -4.417      0.000      -2.093      -0.803\n",
      "==============================================================================\n",
      "Omnibus:                       95.107   Durbin-Watson:                   1.795\n",
      "Prob(Omnibus):                  0.000   Jarque-Bera (JB):              696.392\n",
      "Skew:                           1.075   Prob(JB):                    6.03e-152\n",
      "Kurtosis:                      10.135   Cond. No.                     1.15e+06\n",
      "==============================================================================\n",
      "\n",
      "Notes:\n",
      "[1] Standard Errors assume that the covariance matrix of the errors is correctly specified.\n",
      "[2] The condition number is large, 1.15e+06. This might indicate that there are\n",
      "strong multicollinearity or other numerical problems.\n"
     ]
    }
   ],
   "source": [
    "print(lm_sm.summary())"
   ]
  },
  {
   "cell_type": "markdown",
   "id": "three-lightning",
   "metadata": {},
   "source": [
    "In order to improve r2 value, removing kms_driven clomun , owner and Fuel_Type_Petrol           "
   ]
  },
  {
   "cell_type": "code",
   "execution_count": 25,
   "id": "assigned-lewis",
   "metadata": {},
   "outputs": [
    {
     "name": "stdout",
     "output_type": "stream",
     "text": [
      "                            OLS Regression Results                            \n",
      "==============================================================================\n",
      "Dep. Variable:          Selling_Price   R-squared:                       0.880\n",
      "Model:                            OLS   Adj. R-squared:                  0.878\n",
      "Method:                 Least Squares   F-statistic:                     430.9\n",
      "Date:                Fri, 07 May 2021   Prob (F-statistic):          2.93e-133\n",
      "Time:                        15:16:26   Log-Likelihood:                -597.44\n",
      "No. Observations:                 301   AIC:                             1207.\n",
      "Df Residuals:                     295   BIC:                             1229.\n",
      "Df Model:                           5                                         \n",
      "Covariance Type:            nonrobust                                         \n",
      "==========================================================================================\n",
      "                             coef    std err          t      P>|t|      [0.025      0.975]\n",
      "------------------------------------------------------------------------------------------\n",
      "const                      5.8908      0.459     12.846      0.000       4.988       6.793\n",
      "Present_Price              0.4347      0.016     27.062      0.000       0.403       0.466\n",
      "NewYear                   -0.4537      0.036    -12.665      0.000      -0.524      -0.383\n",
      "Fuel_Type_Diesel           1.7709      0.296      5.980      0.000       1.188       2.354\n",
      "Seller_Type_Individual    -1.1411      0.255     -4.469      0.000      -1.644      -0.639\n",
      "Transmission_Manual       -1.3287      0.326     -4.070      0.000      -1.971      -0.686\n",
      "==============================================================================\n",
      "Omnibus:                       97.167   Durbin-Watson:                   1.778\n",
      "Prob(Omnibus):                  0.000   Jarque-Bera (JB):              755.736\n",
      "Skew:                           1.084   Prob(JB):                    7.83e-165\n",
      "Kurtosis:                      10.454   Cond. No.                         67.2\n",
      "==============================================================================\n",
      "\n",
      "Notes:\n",
      "[1] Standard Errors assume that the covariance matrix of the errors is correctly specified.\n"
     ]
    }
   ],
   "source": [
    "import statsmodels.api as sm\n",
    "\n",
    "X_train_sm = X.drop(['Kms_Driven','Owner','Fuel_Type_Petrol'],axis =1)\n",
    "X_train_sm = sm.add_constant(X_train_sm)\n",
    "\n",
    "lm_sm = sm.OLS(y,X_train_sm.astype(float)).fit()\n",
    "print(lm_sm.summary())"
   ]
  },
  {
   "cell_type": "markdown",
   "id": "hourly-bahrain",
   "metadata": {},
   "source": [
    "Fuel_Type_Petrol            ---- p value is high"
   ]
  },
  {
   "cell_type": "code",
   "execution_count": 28,
   "id": "british-reduction",
   "metadata": {},
   "outputs": [
    {
     "data": {
      "text/html": [
       "<div>\n",
       "<style scoped>\n",
       "    .dataframe tbody tr th:only-of-type {\n",
       "        vertical-align: middle;\n",
       "    }\n",
       "\n",
       "    .dataframe tbody tr th {\n",
       "        vertical-align: top;\n",
       "    }\n",
       "\n",
       "    .dataframe thead th {\n",
       "        text-align: right;\n",
       "    }\n",
       "</style>\n",
       "<table border=\"1\" class=\"dataframe\">\n",
       "  <thead>\n",
       "    <tr style=\"text-align: right;\">\n",
       "      <th></th>\n",
       "      <th>Present_Price</th>\n",
       "      <th>NewYear</th>\n",
       "      <th>Fuel_Type_Diesel</th>\n",
       "      <th>Seller_Type_Individual</th>\n",
       "      <th>Transmission_Manual</th>\n",
       "    </tr>\n",
       "  </thead>\n",
       "  <tbody>\n",
       "    <tr>\n",
       "      <th>Present_Price</th>\n",
       "      <td>1.000000</td>\n",
       "      <td>0.047584</td>\n",
       "      <td>0.473306</td>\n",
       "      <td>-0.512030</td>\n",
       "      <td>-0.348715</td>\n",
       "    </tr>\n",
       "    <tr>\n",
       "      <th>NewYear</th>\n",
       "      <td>0.047584</td>\n",
       "      <td>1.000000</td>\n",
       "      <td>-0.064315</td>\n",
       "      <td>0.039896</td>\n",
       "      <td>-0.000394</td>\n",
       "    </tr>\n",
       "    <tr>\n",
       "      <th>Fuel_Type_Diesel</th>\n",
       "      <td>0.473306</td>\n",
       "      <td>-0.064315</td>\n",
       "      <td>1.000000</td>\n",
       "      <td>-0.350467</td>\n",
       "      <td>-0.098643</td>\n",
       "    </tr>\n",
       "    <tr>\n",
       "      <th>Seller_Type_Individual</th>\n",
       "      <td>-0.512030</td>\n",
       "      <td>0.039896</td>\n",
       "      <td>-0.350467</td>\n",
       "      <td>1.000000</td>\n",
       "      <td>0.063240</td>\n",
       "    </tr>\n",
       "    <tr>\n",
       "      <th>Transmission_Manual</th>\n",
       "      <td>-0.348715</td>\n",
       "      <td>-0.000394</td>\n",
       "      <td>-0.098643</td>\n",
       "      <td>0.063240</td>\n",
       "      <td>1.000000</td>\n",
       "    </tr>\n",
       "  </tbody>\n",
       "</table>\n",
       "</div>"
      ],
      "text/plain": [
       "                        Present_Price   NewYear  Fuel_Type_Diesel  \\\n",
       "Present_Price                1.000000  0.047584          0.473306   \n",
       "NewYear                      0.047584  1.000000         -0.064315   \n",
       "Fuel_Type_Diesel             0.473306 -0.064315          1.000000   \n",
       "Seller_Type_Individual      -0.512030  0.039896         -0.350467   \n",
       "Transmission_Manual         -0.348715 -0.000394         -0.098643   \n",
       "\n",
       "                        Seller_Type_Individual  Transmission_Manual  \n",
       "Present_Price                        -0.512030            -0.348715  \n",
       "NewYear                               0.039896            -0.000394  \n",
       "Fuel_Type_Diesel                     -0.350467            -0.098643  \n",
       "Seller_Type_Individual                1.000000             0.063240  \n",
       "Transmission_Manual                   0.063240             1.000000  "
      ]
     },
     "execution_count": 28,
     "metadata": {},
     "output_type": "execute_result"
    }
   ],
   "source": [
    "X.drop(['Kms_Driven','Owner','Fuel_Type_Petrol'],axis =1).corr()"
   ]
  },
  {
   "cell_type": "code",
   "execution_count": 32,
   "id": "chief-rochester",
   "metadata": {},
   "outputs": [],
   "source": [
    "y_pred = lm_sm.predict(X_train_sm)"
   ]
  },
  {
   "cell_type": "code",
   "execution_count": 36,
   "id": "prostate-participation",
   "metadata": {},
   "outputs": [
    {
     "data": {
      "text/plain": [
       "(301,)"
      ]
     },
     "execution_count": 36,
     "metadata": {},
     "output_type": "execute_result"
    }
   ],
   "source": [
    "y_pred.shape"
   ]
  },
  {
   "cell_type": "code",
   "execution_count": 37,
   "id": "filled-workplace",
   "metadata": {},
   "outputs": [
    {
     "data": {
      "text/plain": [
       "(301,)"
      ]
     },
     "execution_count": 37,
     "metadata": {},
     "output_type": "execute_result"
    }
   ],
   "source": [
    "y.shape"
   ]
  },
  {
   "cell_type": "code",
   "execution_count": 38,
   "id": "proved-bangladesh",
   "metadata": {},
   "outputs": [
    {
     "name": "stderr",
     "output_type": "stream",
     "text": [
      "/srv/conda/envs/notebook/lib/python3.7/site-packages/seaborn/distributions.py:2557: FutureWarning: `distplot` is a deprecated function and will be removed in a future version. Please adapt your code to use either `displot` (a figure-level function with similar flexibility) or `histplot` (an axes-level function for histograms).\n",
      "  warnings.warn(msg, FutureWarning)\n"
     ]
    },
    {
     "data": {
      "text/plain": [
       "<matplotlib.axes._subplots.AxesSubplot at 0x7fd9c3003310>"
      ]
     },
     "execution_count": 38,
     "metadata": {},
     "output_type": "execute_result"
    },
    {
     "data": {
      "image/png": "[encoded data removed]",
      "text/plain": [
       "<Figure size 432x288 with 1 Axes>"
      ]
     },
     "metadata": {
      "needs_background": "light"
     },
     "output_type": "display_data"
    }
   ],
   "source": [
    "sns.distplot(y-y_pred)"
   ]
  },
  {
   "cell_type": "code",
   "execution_count": 31,
   "id": "pacific-leather",
   "metadata": {},
   "outputs": [
    {
     "data": {
      "text/plain": [
       "0.8795578025089811"
      ]
     },
     "execution_count": 31,
     "metadata": {},
     "output_type": "execute_result"
    }
   ],
   "source": [
    "from sklearn.linear_model import RidgeCV\n",
    "clf = RidgeCV(alphas = np.arange(0.001,2,0.01),store_cv_values=True, cv=None)\n",
    "model = clf.fit(X_train_sm, y)\n",
    "clf.score(X_train_sm,y, sample_weight=None)"
   ]
  },
  {
   "cell_type": "code",
   "execution_count": 44,
   "id": "desirable-gentleman",
   "metadata": {},
   "outputs": [],
   "source": [
    "X.drop(['Kms_Driven','Owner','Fuel_Type_Petrol'],axis =1,inplace = True)"
   ]
  },
  {
   "cell_type": "code",
   "execution_count": 46,
   "id": "nutritional-determination",
   "metadata": {},
   "outputs": [],
   "source": [
    "from sklearn.model_selection import train_test_split\n",
    "X_train, X_test, y_train, y_test = train_test_split(X, y, test_size=0.3, random_state=42)"
   ]
  },
  {
   "cell_type": "code",
   "execution_count": 58,
   "id": "numerical-craft",
   "metadata": {},
   "outputs": [
    {
     "data": {
      "text/plain": [
       "RidgeCV(alphas=array([1.000e-03, 1.100e-02, 2.100e-02, 3.100e-02, 4.100e-02, 5.100e-02,\n",
       "       6.100e-02, 7.100e-02, 8.100e-02, 9.100e-02, 1.010e-01, 1.110e-01,\n",
       "       1.210e-01, 1.310e-01, 1.410e-01, 1.510e-01, 1.610e-01, 1.710e-01,\n",
       "       1.810e-01, 1.910e-01, 2.010e-01, 2.110e-01, 2.210e-01, 2.310e-01,\n",
       "       2.410e-01, 2.510e-01, 2.610e-01, 2.710e-01, 2.810e-01, 2.910e-01,\n",
       "       3.010e-01, 3.110e-01, 3.210e-0...\n",
       "       1.741e+00, 1.751e+00, 1.761e+00, 1.771e+00, 1.781e+00, 1.791e+00,\n",
       "       1.801e+00, 1.811e+00, 1.821e+00, 1.831e+00, 1.841e+00, 1.851e+00,\n",
       "       1.861e+00, 1.871e+00, 1.881e+00, 1.891e+00, 1.901e+00, 1.911e+00,\n",
       "       1.921e+00, 1.931e+00, 1.941e+00, 1.951e+00, 1.961e+00, 1.971e+00,\n",
       "       1.981e+00, 1.991e+00]),\n",
       "        cv=None, fit_intercept=True, gcv_mode=None, normalize=False,\n",
       "        scoring=None, store_cv_values=True)"
      ]
     },
     "execution_count": 58,
     "metadata": {},
     "output_type": "execute_result"
    }
   ],
   "source": [
    "clf = RidgeCV(alphas = np.arange(0.001,2,0.01),store_cv_values=True, cv=None)\n",
    "clf.fit(X_train, y_train)"
   ]
  },
  {
   "cell_type": "code",
   "execution_count": 59,
   "id": "sound-request",
   "metadata": {},
   "outputs": [],
   "source": [
    "pred2 = clf.predict(X_test)"
   ]
  },
  {
   "cell_type": "code",
   "execution_count": 60,
   "id": "brutal-funeral",
   "metadata": {},
   "outputs": [
    {
     "data": {
      "text/plain": [
       "0.8767872524266216"
      ]
     },
     "execution_count": 60,
     "metadata": {},
     "output_type": "execute_result"
    }
   ],
   "source": [
    "clf.score(X_test,y_test, sample_weight=None)"
   ]
  },
  {
   "cell_type": "code",
   "execution_count": 61,
   "id": "revolutionary-disney",
   "metadata": {},
   "outputs": [
    {
     "name": "stdout",
     "output_type": "stream",
     "text": [
      "r2 sqyuare value 0.8767872524266217\n",
      "MAE: 1.2598493190441995\n",
      "MSE: 3.5083844883729425\n",
      "RMSE: 1.8730682017409144\n"
     ]
    },
    {
     "name": "stderr",
     "output_type": "stream",
     "text": [
      "/srv/conda/envs/notebook/lib/python3.7/site-packages/seaborn/distributions.py:2557: FutureWarning: `distplot` is a deprecated function and will be removed in a future version. Please adapt your code to use either `displot` (a figure-level function with similar flexibility) or `histplot` (an axes-level function for histograms).\n",
      "  warnings.warn(msg, FutureWarning)\n"
     ]
    },
    {
     "data": {
      "image/png": "[encoded data removed]",
      "text/plain": [
       "<Figure size 432x288 with 1 Axes>"
      ]
     },
     "metadata": {
      "needs_background": "light"
     },
     "output_type": "display_data"
    }
   ],
   "source": [
    "from sklearn.metrics import r2_score\n",
    "re = r2_score(y_test, pred2)\n",
    "print(\"r2 sqyuare value\",re)\n",
    "sns.distplot(y_test-pred2)\n",
    "from sklearn import metrics\n",
    "print('MAE:', metrics.mean_absolute_error(y_test, pred2))\n",
    "print('MSE:', metrics.mean_squared_error(y_test, pred2))\n",
    "print('RMSE:', np.sqrt(metrics.mean_squared_error(y_test, pred2)))"
   ]
  },
  {
   "cell_type": "code",
   "execution_count": null,
   "id": "static-raise",
   "metadata": {},
   "outputs": [],
   "source": []
  }
 ],
 "metadata": {
  "kernelspec": {
   "display_name": "Python 3",
   "language": "python",
   "name": "python3"
  },
  "language_info": {
   "codemirror_mode": {
    "name": "ipython",
    "version": 3
   },
   "file_extension": ".py",
   "mimetype": "text/x-python",
   "name": "python",
   "nbconvert_exporter": "python",
   "pygments_lexer": "ipython3",
   "version": "3.9.5"
  }
 },
 "nbformat": 4,
 "nbformat_minor": 5
}
